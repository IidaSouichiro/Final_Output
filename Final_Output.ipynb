# Multiplication and addition example
a = 10
b = 5
multiplication_result = a * b
addition_result = a + b

print("Multiplication:", multiplication_result)
print("Addition:", addition_result)


# Convert 240 minutes to hours
minutes = 240
hours = minutes / 60

print(f"{minutes} minutes is equal to {hours} hours.")
