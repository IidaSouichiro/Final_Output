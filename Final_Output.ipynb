# Final Output

#Yasuhiro Gibs S

## Introduction
This file contains responses to the final project exercises.

## Data Science Languages
- R
- Python

## Data Science Libraries
- NumPy
- Pandas
- Matplotlib
- Scikit-learn
- TensorFlow

## Data Science Tools

| Tool Name        | Functionality                          |
|-----------------|--------------------------------------|
| Jupyter Notebook | Interactive computing environment   |
| RStudio         | Integrated development environment (IDE) for R |
| Apache Spark    | Large-scale data processing         |
| TensorFlow      | Machine learning and deep learning  |
| Tableau         | Data visualization and business intelligence |

## Arithmetic Expression Examples
The following code cell demonstrates basic arithmetic operations: multiplication and addition.

```python
# Multiplication and addition example
a = 10
b = 5
multiplication_result = a * b
addition_result = a + b

print("Multiplication:", multiplication_result)
print("Addition:", addition_result)


# Convert 240 minutes to hours
minutes = 240
hours = minutes / 60

print(f"{minutes} minutes is equal to {hours} hours.")
